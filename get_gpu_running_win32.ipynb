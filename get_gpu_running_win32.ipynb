{
 "cells": [
  {
   "cell_type": "markdown",
   "metadata": {},
   "source": [
    "# Introduction\n",
    "The goal of this manual is to get tyou up and running using Docker containers to train your keras models. Containers have the major advantage that they provide a complete set of tools that work together, which is not always easy to get working if you install the tools manually. In addition, it allows you to run separate software environment for different projects easily. \n",
    "\n",
    "Must haves:\n",
    "\n",
    "- To use your GPU for training, you need an NVidia GPU. \n",
    "- In addition you need to be running Windows 11\n",
    "\n",
    "To get everything working, we are going to install a number of pieces of software. \n",
    "\n",
    "# NVIDIA drivers\n",
    "You need to have the latest nvidia drivers installed on your system. You can [download the drivers here](https://www.nvidia.com/download/index.aspx), select the correct GPU you have to get the correct driver. After downloading them, execute the driver install program, select the express or default install method. In addition, follow all the instructions the driver install program provides. \n",
    "\n",
    "# WSL2\n",
    "Windows Subsystem for Linux is a means to run a Linux environment inside Windows, which is used to both get your GPU accessible for traning, and in running Docker Desktop. The installation should be straightforward. Start a command line prompt **as administrator** and issue the following command:\n",
    "\n",
    "    wsl --install\n",
    "\n",
    "After following the procedure, restart your computer and you should be good. There should be a program called `Ubuntu 20.04 LTS` or some variation of this you can start. This should open a terminal window to this Linux distribution. \n",
    "\n",
    "# Docker Desktop\n",
    "After getting WSL running, we can install the program that will run and create our containers. This link provides a good installation procedure. You need to read the `System requirements` section, make sure to enable virtualisation support in the BIOS. The section provides a link how to do this. \n",
    "\n",
    "Make sure to download the docker desktop installer [from their website](https://www.docker.com/products/docker-desktop/). Next we skip to the `Install Docker Desktop on Windows` section and the `Install interactively` subsection. Follow the instructions listed there. An important step is the last step, your local account needs to be added to the `docker-users` group, or else docker will not be able to start containers. Just follow the instructions for that point. Afterr this point we are done installing Docker Desktop. \n",
    "\n",
    "# Preparing VS code for use with containers\n",
    "With all the software setup, we can now configure VS code to use containers. For this we need to files:\n",
    "\n",
    "- `dockcer/Dockerfile` this file describes the container we will be using. Typically, we start from a base container such as `tensorflow/tensorflow:latest-gpu-jupyter` and install some additional packages ontop of that. \n",
    "- `.devcontainer.json` this file describes to VS code what should be done to start the development environment. It refers to the dockerfile we mentioned earlier, starts Jupyter in the container, tells it to use the GPU, and installs some extensions we need. \n",
    "\n",
    "Examples of both files will be provided to you below, simply drop them into the top folder of your VS code project. Do note that the path under `\"dockerfile\"` in the devontainer needs to match the path in your project. The default is `docker/Dockerfile`. \n",
    "\n",
    "Examples of files:\n",
    "- [.devcontainer.json](.devcontainer.json)\n",
    "- [Anaconda3 dockerfile](docker_examples/Dockerfile_anaconda3) this contains a basic Anaconda3 install. Can be used for the first theme of the ML course. \n",
    "- [Tensorflow GPU dockerfile](docker_examples/Dockerfile_tensorflow_gpu) this contains a tensorflow GPU based container, can be used for themes 2 and 3 of the ML course. It could be that you need to install a few extra packages, simply add them to the `pip install` list, do not forget `\\` at the end of a line. \n",
    "\n",
    "# Actually run containers and train models\n",
    "We can now start using Docker containers to train Keras models in VS code. First we need to install the `Dev Containers` plugin for VS code. You go to the extensions tab on the left hand side of the program, and install the plugin. In addition, I assume that you dropped both the docker and the devcontainer file in the top directory of your VS code project. \n",
    "\n",
    "Once the plugin is installed, open the project directory in VS code. If all went well, VS code should ask you to restart VS code inside the container. Allow VS code to do this for you, and the docker container should be downloaded. The first time this can take a while, but just be patient. The next times will be alot faster. If all went well, VS code should tell you that your application is running at port 8888, this is the Jupyter Notebook server we will be using. \n",
    "\n",
    "To actually use the server, we press `Select Kernel` in a Jupyter notebook. From there we select `Existing Jupyter servers` and enter the followin string: `http://127.0.0.1:8888/?token=jupdevtoken`. *Note that here we us the token `jupdevtoken`, this only applies if you use the devcontainer file we provided*. This last step connects us to the Jupyter Server running in the container. Next we select the Python version we want to use, there should be one option: `Python 3`. With all this done, we can work with the Jupyter Notebook as we are used to. \n",
    "\n",
    "# (Optional) Run scripts inside containers\n",
    "Willen we dit soort dingen toevoegen?\n",
    "- Use the provided bash script"
   ]
  }
 ],
 "metadata": {
  "language_info": {
   "name": "python"
  },
  "orig_nbformat": 4
 },
 "nbformat": 4,
 "nbformat_minor": 2
}
